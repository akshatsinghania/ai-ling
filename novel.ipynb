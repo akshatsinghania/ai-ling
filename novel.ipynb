{
 "cells": [
  {
   "cell_type": "code",
   "execution_count": 1,
   "metadata": {},
   "outputs": [],
   "source": [
    "import typing as t\n",
    "\n",
    "import requests\n",
    "\n",
    "DREAMILY_API_URI = \"http://if.caiyunai.com/v2/api/bot_ai\"\n",
    "\n",
    "#细节狂魔\n",
    "DEFAULT_MID = \"617b448c60d8bf96c94070a7\"\n",
    "#617b448c60d8bf96c94070a7\t细节狂魔\tgeneral_big_20210609\tgeneral_en_20210513\t/infer3\t-\t-\t-\t0.9\t转换完成\t隐藏\t\n",
    "#611f6d5f1b75bf2de03ccaaf\t脑洞大开\tgeneral_big_20210609\tgeneral_en_20210513\t/infer3\tnaodong\t-\t-\t1\t转换完成\t隐藏\t\n",
    "#60211134902769d45689bf75\t玄幻\tgeneral_20210220\tgeneral_en_20210513\t/infer3\tfantasy\t-\t,玄幻\t1\t转换完成\t公开\t\n",
    "#601f936f0c9aaf5f28a6f90a\t言情\tgeneral_20210220\tgeneral_en_20210513\t/infer3\tromance\t-\t,言情,yanqing\t0.9\t转换完成\t公开\t\n",
    "#601f92f60c9aaf5f28a6f908\t纯爱\tgeneral_20210220\tgeneral_en_20210513\t/infer3\tpurelove\t-\t,纯爱,耽美\t0.9\t转换完成\t公开\t\n",
    "#601ac4c9bd931db756e22da6\t小梦1号\tgeneral_20210220\tgeneral_en_20210513\t/infer3\tdetail\t-\t-\t0.9\t转换完成\t公开\t\n",
    "#60094a2a9661080dc490f75a\t小梦0号\tgeneral_20210220\tgeneral_en_20210513\t/infer3\timage\t-\t-\t1\t转换完成\t公开\t\n",
    "\n",
    "\n",
    "DEFAULT_REGION = \"China\"\n",
    "DEFAULT_HEADERS = {\"Content-Type\": \"application/json\"}\n",
    "\n",
    "session = requests.Session()\n",
    "\n",
    "def build_dream(\n",
    "    user_id: str, \n",
    "    content: str, \n",
    "    mid: str=DEFAULT_MID, \n",
    "    region: str=DEFAULT_REGION,\n",
    "    length: int=70,\n",
    ") -> t.Tuple[str, bool]:\n",
    "\n",
    "    resp = session.post(\n",
    "        DREAMILY_API_URI, \n",
    "        json=dict(user_id=user_id, \n",
    "                  value=content, \n",
    "                  platform=\"open.caiyunapp.com\", \n",
    "                  mid=mid, \n",
    "                  region=region, \n",
    "                  length=length), \n",
    "        headers=DEFAULT_HEADERS,\n",
    "    )\n",
    "    # Note: 未返回 2xx\n",
    "    if not resp.ok:\n",
    "        return resp.reason, False\n",
    "\n",
    "    result = resp.json()\n",
    "    # Note: 返回 2xx 但续写失败\n",
    "    if result.get(\"status\") != 0:\n",
    "        return result.get(\"msg\", \"unknown error\"), False\n",
    "\n",
    "    return result[\"data\"][\"row\"], True"
   ]
  },
  {
   "cell_type": "code",
   "execution_count": 2,
   "metadata": {},
   "outputs": [
    {
     "name": "stdout",
     "output_type": "stream",
     "text": [
      "冲击第8级。\n",
      "“轰”的一声巨响，他整个人都被震飞了出去，但还好他及时稳住身形。\n",
      "只差最后那么一点点就可以突破到第八级了，而且这个过程虽然艰难痛苦，但他却从中获益良多。\n",
      "他已经将自己的状态调整至最佳，接着他又尝试冲击了几次，但仍旧失败。\n",
      "“哎”他叹息一声，终究还是没能成功啊，他心里有些沮丧，同时还有些疑惑，按理说自己的资质应该算很高了，怎么连升8级这么简单的任务都完不成？\n",
      "他并没有怀疑自己的天赋，毕\n"
     ]
    }
   ],
   "source": [
    "try :\n",
    "    reply, ok = build_dream(\n",
    "        user_id=\"littletree\",\n",
    "        content=\"他修炼到了第7级，现在开始\",\n",
    "        length=200,\n",
    "    )\n",
    "    print(reply)\n",
    "except Exception as e:\n",
    "    reply = str(e)"
   ]
  },
  {
   "cell_type": "code",
   "execution_count": null,
   "metadata": {},
   "outputs": [],
   "source": []
  },
  {
   "cell_type": "code",
   "execution_count": null,
   "metadata": {},
   "outputs": [],
   "source": []
  }
 ],
 "metadata": {
  "kernelspec": {
   "display_name": "Python 3",
   "language": "python",
   "name": "python3"
  },
  "language_info": {
   "codemirror_mode": {
    "name": "ipython",
    "version": 3
   },
   "file_extension": ".py",
   "mimetype": "text/x-python",
   "name": "python",
   "nbconvert_exporter": "python",
   "pygments_lexer": "ipython3",
   "version": "3.8.1"
  }
 },
 "nbformat": 4,
 "nbformat_minor": 4
}
